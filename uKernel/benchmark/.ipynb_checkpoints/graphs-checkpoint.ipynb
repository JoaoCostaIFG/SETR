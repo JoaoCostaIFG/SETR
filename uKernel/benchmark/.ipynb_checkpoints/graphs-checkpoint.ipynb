{
 "cells": [
  {
   "cell_type": "code",
   "execution_count": null,
   "id": "d0bf9409-f9b5-4a53-b42e-b01e2b0b0f3b",
   "metadata": {},
   "outputs": [],
   "source": [
    "%matplotlib inline\n",
    "import seaborn as sb\n",
    "import matplotlib.pyplot as plt\n",
    "import pandas"
   ]
  },
  {
   "cell_type": "code",
   "execution_count": null,
   "id": "5e8f01c3-4ca3-43dd-abf0-23fe693a7ffa",
   "metadata": {},
   "outputs": [],
   "source": [
    "for i in range(2, 9):\n",
    "    with open(f\"isr_{i}_tasks.raw.txt\") as f:\n",
    "        data = list(map(lambda x: int(x), f.read().split()))\n",
    "    data_diff = []\n",
    "    for j in range(0, len(data) - 1, 2):\n",
    "        data_diff.append(data[j + 1] - data[j])\n",
    "    with open(f\"isr_{i}_tasks.txt\", \"w+\") as f:\n",
    "        f.writelines(map(lambda x: str(x) + \"\\n\", data_diff))"
   ]
  },
  {
   "cell_type": "code",
   "execution_count": null,
   "id": "97d5a29f-4354-49d3-8b7e-06da5db4a14d",
   "metadata": {},
   "outputs": [],
   "source": [
    "elData = dict()\n",
    "\n",
    "for i in range(2, 9):\n",
    "    with open(f\"isr_{i}_tasks.txt\") as f:\n",
    "        data = list(map(lambda x: int(x), f.read().split()))\n",
    "    elData[i] = sum(data) / len(data)\n",
    "\n",
    "df = pandas.DataFrame()\n",
    "df[\"numTasks\"] = elData.keys()\n",
    "df[\"avgExecTime\"] = elData.values()\n",
    "df"
   ]
  },
  {
   "cell_type": "code",
   "execution_count": null,
   "id": "f5edfff6-72ad-431c-b903-4e464300e451",
   "metadata": {},
   "outputs": [],
   "source": [
    "plt.figure(figsize=[16, 8]);\n",
    "plt.xlabel(\"number of tasks\");\n",
    "plt.ylabel(\"avg. execution time (microseconds)\");\n",
    "\n",
    "sb.lineplot(data=df, x=\"numTasks\", y=\"avgExecTime\", palette=\"deep\");\n",
    "\n",
    "plt.savefig(\"isr_avg_exec_time.png\")\n",
    "plt.savefig(\"isr_avg_exec_time.svg\")\n",
    "plt.show()"
   ]
  },
  {
   "cell_type": "code",
   "execution_count": null,
   "id": "b92e6029-25be-4ce3-8ea4-b576647081a8",
   "metadata": {},
   "outputs": [],
   "source": []
  },
  {
   "cell_type": "code",
   "execution_count": null,
   "id": "a48873b4-55b4-4519-8955-44eb6b850cda",
   "metadata": {},
   "outputs": [],
   "source": []
  }
 ],
 "metadata": {
  "kernelspec": {
   "display_name": "Python 3 (ipykernel)",
   "language": "python",
   "name": "python3"
  },
  "language_info": {
   "codemirror_mode": {
    "name": "ipython",
    "version": 3
   },
   "file_extension": ".py",
   "mimetype": "text/x-python",
   "name": "python",
   "nbconvert_exporter": "python",
   "pygments_lexer": "ipython3",
   "version": "3.10.5"
  }
 },
 "nbformat": 4,
 "nbformat_minor": 5
}
