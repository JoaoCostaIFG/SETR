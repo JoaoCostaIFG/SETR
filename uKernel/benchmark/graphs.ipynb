{
 "cells": [
  {
   "cell_type": "code",
   "execution_count": 13,
   "id": "d0bf9409-f9b5-4a53-b42e-b01e2b0b0f3b",
   "metadata": {},
   "outputs": [],
   "source": [
    "%matplotlib inline\n",
    "import seaborn as sb\n",
    "import matplotlib.pyplot as plt\n",
    "import pandas"
   ]
  },
  {
   "cell_type": "code",
   "execution_count": 18,
   "id": "5e8f01c3-4ca3-43dd-abf0-23fe693a7ffa",
   "metadata": {},
   "outputs": [],
   "source": [
    "for i in range(2, 9):\n",
    "    with open(f\"isr_{i}_tasks.raw.txt\") as f:\n",
    "        data = list(map(lambda x: int(x), f.read().split()))\n",
    "    data_diff = []\n",
    "    for j in range(0, len(data) - 1, 2):\n",
    "        data_diff.append(data[j + 1] - data[j])\n",
    "    with open(f\"isr_{i}_tasks.txt\", \"w+\") as f:\n",
    "        f.writelines(map(lambda x: str(x) + \"\\n\", data_diff))"
   ]
  },
  {
   "cell_type": "code",
   "execution_count": 31,
   "id": "97d5a29f-4354-49d3-8b7e-06da5db4a14d",
   "metadata": {},
   "outputs": [
    {
     "data": {
      "text/html": [
       "<div>\n",
       "<style scoped>\n",
       "    .dataframe tbody tr th:only-of-type {\n",
       "        vertical-align: middle;\n",
       "    }\n",
       "\n",
       "    .dataframe tbody tr th {\n",
       "        vertical-align: top;\n",
       "    }\n",
       "\n",
       "    .dataframe thead th {\n",
       "        text-align: right;\n",
       "    }\n",
       "</style>\n",
       "<table border=\"1\" class=\"dataframe\">\n",
       "  <thead>\n",
       "    <tr style=\"text-align: right;\">\n",
       "      <th></th>\n",
       "      <th>numTasks</th>\n",
       "      <th>avgExecTime</th>\n",
       "    </tr>\n",
       "  </thead>\n",
       "  <tbody>\n",
       "    <tr>\n",
       "      <th>0</th>\n",
       "      <td>2</td>\n",
       "      <td>48.0</td>\n",
       "    </tr>\n",
       "    <tr>\n",
       "      <th>1</th>\n",
       "      <td>3</td>\n",
       "      <td>64.0</td>\n",
       "    </tr>\n",
       "    <tr>\n",
       "      <th>2</th>\n",
       "      <td>4</td>\n",
       "      <td>76.0</td>\n",
       "    </tr>\n",
       "    <tr>\n",
       "      <th>3</th>\n",
       "      <td>5</td>\n",
       "      <td>92.0</td>\n",
       "    </tr>\n",
       "    <tr>\n",
       "      <th>4</th>\n",
       "      <td>6</td>\n",
       "      <td>172.0</td>\n",
       "    </tr>\n",
       "    <tr>\n",
       "      <th>5</th>\n",
       "      <td>7</td>\n",
       "      <td>184.0</td>\n",
       "    </tr>\n",
       "    <tr>\n",
       "      <th>6</th>\n",
       "      <td>8</td>\n",
       "      <td>200.0</td>\n",
       "    </tr>\n",
       "  </tbody>\n",
       "</table>\n",
       "</div>"
      ],
      "text/plain": [
       "   numTasks  avgExecTime\n",
       "0         2         48.0\n",
       "1         3         64.0\n",
       "2         4         76.0\n",
       "3         5         92.0\n",
       "4         6        172.0\n",
       "5         7        184.0\n",
       "6         8        200.0"
      ]
     },
     "execution_count": 31,
     "metadata": {},
     "output_type": "execute_result"
    }
   ],
   "source": [
    "elData = dict()\n",
    "\n",
    "for i in range(2, 9):\n",
    "    with open(f\"isr_{i}_tasks.txt\") as f:\n",
    "        data = list(map(lambda x: int(x), f.read().split()))\n",
    "    elData[i] = sum(data) / len(data)\n",
    "\n",
    "df = pandas.DataFrame()\n",
    "df[\"numTasks\"] = elData.keys()\n",
    "df[\"avgExecTime\"] = elData.values()\n",
    "df"
   ]
  },
  {
   "cell_type": "code",
   "execution_count": 33,
   "id": "f5edfff6-72ad-431c-b903-4e464300e451",
   "metadata": {},
   "outputs": [
    {
     "data": {
      "image/png": "[encoded data removed]",
      "text/plain": [
       "<Figure size 1152x576 with 1 Axes>"
      ]
     },
     "metadata": {
      "needs_background": "light"
     },
     "output_type": "display_data"
    }
   ],
   "source": [
    "plt.figure(figsize=[16, 8]);\n",
    "sb.lineplot(data=df, x=\"numTasks\", y=\"avgExecTime\", palette=\"deep\");"
   ]
  },
  {
   "cell_type": "code",
   "execution_count": null,
   "id": "b92e6029-25be-4ce3-8ea4-b576647081a8",
   "metadata": {},
   "outputs": [],
   "source": []
  },
  {
   "cell_type": "code",
   "execution_count": null,
   "id": "a48873b4-55b4-4519-8955-44eb6b850cda",
   "metadata": {},
   "outputs": [],
   "source": []
  }
 ],
 "metadata": {
  "kernelspec": {
   "display_name": "Python 3 (ipykernel)",
   "language": "python",
   "name": "python3"
  },
  "language_info": {
   "codemirror_mode": {
    "name": "ipython",
    "version": 3
   },
   "file_extension": ".py",
   "mimetype": "text/x-python",
   "name": "python",
   "nbconvert_exporter": "python",
   "pygments_lexer": "ipython3",
   "version": "3.10.4"
  }
 },
 "nbformat": 4,
 "nbformat_minor": 5
}
