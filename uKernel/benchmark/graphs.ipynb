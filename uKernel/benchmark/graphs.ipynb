{
 "cells": [
  {
   "cell_type": "code",
   "execution_count": 1,
   "id": "d0bf9409-f9b5-4a53-b42e-b01e2b0b0f3b",
   "metadata": {},
   "outputs": [],
   "source": [
    "%matplotlib inline\n",
    "import seaborn as sb\n",
    "import matplotlib.pyplot as plt\n",
    "import pandas"
   ]
  },
  {
   "cell_type": "code",
   "execution_count": 2,
   "id": "97d5a29f-4354-49d3-8b7e-06da5db4a14d",
   "metadata": {},
   "outputs": [],
   "source": [
    "pd = pandas.DataFrame()"
   ]
  },
  {
   "cell_type": "code",
   "execution_count": 3,
   "id": "5e8f01c3-4ca3-43dd-abf0-23fe693a7ffa",
   "metadata": {},
   "outputs": [],
   "source": [
    "with open(\"isr_2_tasks.txt\") as f:\n",
    "    data2 = list(map(lambda x: int(x), f.read().split()))\n",
    "    \n",
    "with open(\"isr_4_tasks.txt\") as f:\n",
    "    data4 = list(map(lambda x: int(x), f.read().split()))\n",
    "    \n",
    "with open(\"isr_10_tasks.txt\") as f:\n",
    "    data10 = list(map(lambda x: int(x), f.read().split()))"
   ]
  },
  {
   "cell_type": "code",
   "execution_count": 4,
   "id": "49429bf0-2957-404d-981c-bde1413180ac",
   "metadata": {},
   "outputs": [],
   "source": [
    "pd[\"numTasks\"] = [2] * len(data2) + [4] * len(data4) + [10] * len(data10)\n",
    "#pd[\"numExecs\"] = [len(data2), len(data4), len(data10)]\n",
    "pd[\"execTime\"] = data2 + data4 + data10"
   ]
  },
  {
   "cell_type": "code",
   "execution_count": 5,
   "id": "e0fcae2b-f736-4720-ac29-be9880b582d6",
   "metadata": {},
   "outputs": [
    {
     "data": {
      "text/html": [
       "<div>\n",
       "<style scoped>\n",
       "    .dataframe tbody tr th:only-of-type {\n",
       "        vertical-align: middle;\n",
       "    }\n",
       "\n",
       "    .dataframe tbody tr th {\n",
       "        vertical-align: top;\n",
       "    }\n",
       "\n",
       "    .dataframe thead th {\n",
       "        text-align: right;\n",
       "    }\n",
       "</style>\n",
       "<table border=\"1\" class=\"dataframe\">\n",
       "  <thead>\n",
       "    <tr style=\"text-align: right;\">\n",
       "      <th></th>\n",
       "      <th>numTasks</th>\n",
       "      <th>execTime</th>\n",
       "    </tr>\n",
       "  </thead>\n",
       "  <tbody>\n",
       "    <tr>\n",
       "      <th>0</th>\n",
       "      <td>2</td>\n",
       "      <td>512</td>\n",
       "    </tr>\n",
       "    <tr>\n",
       "      <th>1</th>\n",
       "      <td>2</td>\n",
       "      <td>512</td>\n",
       "    </tr>\n",
       "    <tr>\n",
       "      <th>2</th>\n",
       "      <td>2</td>\n",
       "      <td>512</td>\n",
       "    </tr>\n",
       "    <tr>\n",
       "      <th>3</th>\n",
       "      <td>2</td>\n",
       "      <td>512</td>\n",
       "    </tr>\n",
       "    <tr>\n",
       "      <th>4</th>\n",
       "      <td>2</td>\n",
       "      <td>508</td>\n",
       "    </tr>\n",
       "    <tr>\n",
       "      <th>...</th>\n",
       "      <td>...</td>\n",
       "      <td>...</td>\n",
       "    </tr>\n",
       "    <tr>\n",
       "      <th>76</th>\n",
       "      <td>10</td>\n",
       "      <td>1680</td>\n",
       "    </tr>\n",
       "    <tr>\n",
       "      <th>77</th>\n",
       "      <td>10</td>\n",
       "      <td>668</td>\n",
       "    </tr>\n",
       "    <tr>\n",
       "      <th>78</th>\n",
       "      <td>10</td>\n",
       "      <td>892</td>\n",
       "    </tr>\n",
       "    <tr>\n",
       "      <th>79</th>\n",
       "      <td>10</td>\n",
       "      <td>1728</td>\n",
       "    </tr>\n",
       "    <tr>\n",
       "      <th>80</th>\n",
       "      <td>10</td>\n",
       "      <td>1576</td>\n",
       "    </tr>\n",
       "  </tbody>\n",
       "</table>\n",
       "<p>81 rows × 2 columns</p>\n",
       "</div>"
      ],
      "text/plain": [
       "    numTasks  execTime\n",
       "0          2       512\n",
       "1          2       512\n",
       "2          2       512\n",
       "3          2       512\n",
       "4          2       508\n",
       "..       ...       ...\n",
       "76        10      1680\n",
       "77        10       668\n",
       "78        10       892\n",
       "79        10      1728\n",
       "80        10      1576\n",
       "\n",
       "[81 rows x 2 columns]"
      ]
     },
     "execution_count": 5,
     "metadata": {},
     "output_type": "execute_result"
    }
   ],
   "source": [
    "pd"
   ]
  },
  {
   "cell_type": "code",
   "execution_count": 8,
   "id": "f5edfff6-72ad-431c-b903-4e464300e451",
   "metadata": {},
   "outputs": [
    {
     "data": {
      "image/png": "[encoded data removed]",
      "text/plain": [
       "<Figure size 1152x576 with 1 Axes>"
      ]
     },
     "metadata": {
      "needs_background": "light"
     },
     "output_type": "display_data"
    }
   ],
   "source": [
    "plt.figure(figsize=[16, 8])\n",
    "sb.boxplot(data=pd, x=\"numTasks\", y=\"execTime\", palette=\"deep\");\n",
    "sb.stripplot(data=pd, x=\"numTasks\", y=\"execTime\", jitter=True, color='black');"
   ]
  },
  {
   "cell_type": "code",
   "execution_count": null,
   "id": "b92e6029-25be-4ce3-8ea4-b576647081a8",
   "metadata": {},
   "outputs": [],
   "source": []
  },
  {
   "cell_type": "code",
   "execution_count": null,
   "id": "a48873b4-55b4-4519-8955-44eb6b850cda",
   "metadata": {},
   "outputs": [],
   "source": []
  }
 ],
 "metadata": {
  "kernelspec": {
   "display_name": "Python 3 (ipykernel)",
   "language": "python",
   "name": "python3"
  },
  "language_info": {
   "codemirror_mode": {
    "name": "ipython",
    "version": 3
   },
   "file_extension": ".py",
   "mimetype": "text/x-python",
   "name": "python",
   "nbconvert_exporter": "python",
   "pygments_lexer": "ipython3",
   "version": "3.10.4"
  }
 },
 "nbformat": 4,
 "nbformat_minor": 5
}
